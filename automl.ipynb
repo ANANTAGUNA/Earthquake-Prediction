{
 "cells": [
  {
   "cell_type": "code",
   "execution_count": 16,
   "metadata": {},
   "outputs": [],
   "source": [
    "import numpy as np\n",
    "import pandas as pd\n",
    "from sklearn.model_selection import train_test_split\n",
    "import warnings\n",
    "warnings.filterwarnings('ignore')"
   ]
  },
  {
   "cell_type": "code",
   "execution_count": 17,
   "metadata": {},
   "outputs": [],
   "source": [
    "X = pd.read_csv('data/one_hot_data.csv')\n",
    "y = pd.read_csv('data/train_labels.csv')"
   ]
  },
  {
   "cell_type": "code",
   "execution_count": 18,
   "metadata": {},
   "outputs": [],
   "source": [
    "y = y['damage_grade']"
   ]
  },
  {
   "cell_type": "code",
   "execution_count": 19,
   "metadata": {},
   "outputs": [
    {
     "data": {
      "text/plain": [
       "(260601, 70)"
      ]
     },
     "execution_count": 19,
     "metadata": {},
     "output_type": "execute_result"
    }
   ],
   "source": [
    "X.shape"
   ]
  },
  {
   "cell_type": "code",
   "execution_count": 20,
   "metadata": {},
   "outputs": [],
   "source": [
    "import azureml.core"
   ]
  },
  {
   "cell_type": "code",
   "execution_count": 21,
   "metadata": {},
   "outputs": [
    {
     "data": {
      "text/plain": [
       "'1.0.74'"
      ]
     },
     "execution_count": 21,
     "metadata": {},
     "output_type": "execute_result"
    }
   ],
   "source": [
    "azureml.core.VERSION"
   ]
  },
  {
   "cell_type": "code",
   "execution_count": 22,
   "metadata": {},
   "outputs": [],
   "source": [
    "from azureml.core.workspace import Workspace"
   ]
  },
  {
   "cell_type": "code",
   "execution_count": null,
   "metadata": {},
   "outputs": [
    {
     "name": "stdout",
     "output_type": "stream",
     "text": [
      "Performing interactive authentication. Please follow the instructions on the terminal.\n"
     ]
    },
    {
     "name": "stderr",
     "output_type": "stream",
     "text": [
      "Note, we have launched a browser for you to login. For old experience with device code, use \"az login --use-device-code\"\n"
     ]
    }
   ],
   "source": [
    "ws = Workspace.from_config()"
   ]
  },
  {
   "cell_type": "code",
   "execution_count": null,
   "metadata": {},
   "outputs": [],
   "source": [
    "import logging\n",
    "automl_settings = {\n",
    "    \"iteration_timeout_minutes\": 5,\n",
    "    \"experiment_timeout_minutes\": 120,\n",
    "    \"enable_early_stopping\": False,\n",
    "    \"primary_metric\": 'norm_macro_recall',\n",
    "    \"featurization\": 'auto',\n",
    "    \"verbosity\": logging.INFO,\n",
    "    \"n_cross_validations\": 5\n",
    "}"
   ]
  },
  {
   "cell_type": "code",
   "execution_count": 10,
   "metadata": {},
   "outputs": [],
   "source": [
    "x_train, x_test, y_train, y_test = train_test_split(X, y, test_size = .2)"
   ]
  },
  {
   "cell_type": "code",
   "execution_count": 11,
   "metadata": {},
   "outputs": [
    {
     "data": {
      "text/plain": [
       "(208480,)"
      ]
     },
     "execution_count": 11,
     "metadata": {},
     "output_type": "execute_result"
    }
   ],
   "source": [
    "y_train.values.shape"
   ]
  },
  {
   "cell_type": "code",
   "execution_count": 15,
   "metadata": {},
   "outputs": [
    {
     "name": "stderr",
     "output_type": "stream",
     "text": [
      "WARNING - The AutoMLConfig inputs you have specified will soon be deprecated. Please use the AutoMLConfig shown in our documentation: https://aka.ms/AutoMLConfig\n"
     ]
    }
   ],
   "source": [
    "from azureml.train.automl import AutoMLConfig\n",
    "automl_config = AutoMLConfig(task='classification',\n",
    "                             debug_log='automated_ml_errors.log',\n",
    "                             X=x_train.values,\n",
    "                             y=y_train.values.flatten(),\n",
    "                             **automl_settings)"
   ]
  },
  {
   "cell_type": "code",
   "execution_count": null,
   "metadata": {},
   "outputs": [
    {
     "name": "stdout",
     "output_type": "stream",
     "text": [
      "Running on local machine\n",
      "Parent Run ID: AutoML_fd0b6bde-9c6d-4aaf-8bb1-adb7afc06ca2\n",
      "Current status: DatasetFeaturization. Beginning to featurize the dataset.\n",
      "Current status: DatasetEvaluation. Gathering dataset statistics.\n",
      "Current status: FeaturesGeneration. Generating features for the dataset.\n",
      "Current status: DatasetFeaturizationCompleted. Completed featurizing the dataset.\n",
      "Current status: DatasetCrossValidationSplit. Generating individually featurized CV splits.\n",
      "\n",
      "****************************************************************************************************\n",
      "DATA GUARDRAILS SUMMARY:\n",
      "For more details, use API: run.get_guardrails()\n",
      "\n",
      "TYPE:         Class balancing detection\n",
      "STATUS:       PASSED\n",
      "DESCRIPTION:  Classes are balanced in the training data.\n",
      "\n",
      "TYPE:         Missing values imputation\n",
      "STATUS:       PASSED\n",
      "DESCRIPTION:  There were no missing values found in the training data.\n",
      "\n",
      "TYPE:         High cardinality feature detection\n",
      "STATUS:       PASSED\n",
      "DESCRIPTION:  Your inputs were analyzed, and no high cardinality features were detected.\n",
      "\n",
      "****************************************************************************************************\n",
      "Current status: ModelSelection. Beginning model selection.\n",
      "\n",
      "****************************************************************************************************\n",
      "ITERATION: The iteration being evaluated.\n",
      "PIPELINE: A summary description of the pipeline being evaluated.\n",
      "DURATION: Time taken for the current iteration.\n",
      "METRIC: The result of computing score on the fitted pipeline.\n",
      "BEST: The best observed score thus far.\n",
      "****************************************************************************************************\n",
      "\n",
      " ITERATION   PIPELINE                                       DURATION      METRIC      BEST\n",
      "         0   MaxAbsScaler SGD                               0:00:41       0.4509    0.4509\n",
      "         1   "
     ]
    },
    {
     "name": "stderr",
     "output_type": "stream",
     "text": [
      "WARNING - Retrying (Retry(total=2, connect=None, read=None, redirect=None, status=None)) after connection broken by 'ProtocolError('Connection aborted.', OSError(\"(10054, 'WSAECONNRESET')\"))': /azureml/ExperimentRun/dcid.AutoML_fd0b6bde-9c6d-4aaf-8bb1-adb7afc06ca2_1/outputs/conda_env_v_1_0_0.yml?sv=2019-02-02&sr=b&sig=wnVFvkv7CBWHsBC%2BzyvsPZI4Gkomvao3uO%2FBKyxUxoY%3D&st=2019-11-14T21%3A51%3A47Z&se=2019-11-15T22%3A01%3A47Z&sp=rcw&comp=block&blockid=TURBd01EQXdNREF3TURBd01EQXdNREF3TURBd01EQXdNREF3TURBd01EQSUzRA%3D%3D&timeout=30\n"
     ]
    },
    {
     "name": "stdout",
     "output_type": "stream",
     "text": [
      "MaxAbsScaler SGD                               0:00:58       0.3196    0.4509\n",
      "         2   MaxAbsScaler RandomForest                      0:00:47       0.3447    0.4509\n",
      "         3   MaxAbsScaler SGD                               0:00:36       0.3194    0.4509\n",
      "         4   MaxAbsScaler SGD                               0:00:46       0.3100    0.4509\n",
      "         5   MaxAbsScaler SGD                               0:00:48       0.3268    0.4509\n",
      "         6   StandardScalerWrapper ExtremeRandomTrees       0:01:15       0.2893    0.4509\n",
      "         7   MaxAbsScaler RandomForest                      0:01:03       0.3720    0.4509\n",
      "         8   MaxAbsScaler BernoulliNaiveBayes               0:00:36       0.4397    0.4509\n",
      "         9   MaxAbsScaler SGD                               0:00:46       0.3159    0.4509\n",
      "        10   MaxAbsScaler ExtremeRandomTrees                0:01:16       0.0886    0.4509\n",
      "        11   MaxAbsScaler RandomForest                      0:00:56       0.2584    0.4509\n",
      "        12   MaxAbsScaler SGD                               0:00:46       0.4521    0.4521\n",
      "        13   MaxAbsScaler RandomForest                      0:00:39       0.3248    0.4521\n",
      "        14   MaxAbsScaler ExtremeRandomTrees                0:01:14       0.3116    0.4521\n",
      "        15   MaxAbsScaler ExtremeRandomTrees                0:00:54       0.2722    0.4521\n",
      "        16   "
     ]
    },
    {
     "name": "stderr",
     "output_type": "stream",
     "text": [
      "WARNING - Retrying (Retry(total=2, connect=None, read=None, redirect=None, status=None)) after connection broken by 'ProtocolError('Connection aborted.', OSError(\"(10054, 'WSAECONNRESET')\"))': /azureml/ExperimentRun/dcid.AutoML_fd0b6bde-9c6d-4aaf-8bb1-adb7afc06ca2_16/pipeline_graph.json?sv=2019-02-02&sr=b&sig=3KKRHwlseQE4NjI2QJLWtyc9A96zuvUPvL27Bpp%2Baag%3D&st=2019-11-14T22%3A05%3A35Z&se=2019-11-15T22%3A15%3A35Z&sp=rcw&comp=block&blockid=TURBd01EQXdNREF3TURBd01EQXdNREF3TURBd01EQXdNREF3TURBd01EQSUzRA%3D%3D&timeout=30\n"
     ]
    },
    {
     "name": "stdout",
     "output_type": "stream",
     "text": [
      "MaxAbsScaler RandomForest                      0:01:20       0.2431    0.4521\n",
      "        17   MaxAbsScaler RandomForest                      0:00:52       0.2647    0.4521\n",
      "        18   MaxAbsScaler SGD                               0:00:51       0.2912    0.4521\n",
      "        19   StandardScalerWrapper BernoulliNaiveBayes      0:00:34       0.4368    0.4521\n",
      "        20   StandardScalerWrapper SGD                      0:03:44       0.0098    0.4521\n",
      "        21   MaxAbsScaler ExtremeRandomTrees                0:02:58       0.0000    0.4521\n",
      "        22                                                  0:05:05          nan    0.4521\n",
      "ERROR: Wall clock time exceeded the specified limit. Please consider increasing the time limit.\n",
      "        23   "
     ]
    }
   ],
   "source": [
    "from azureml.core.experiment import Experiment\n",
    "experiment = Experiment(ws, \"earthquake-exp\")\n",
    "local_run = experiment.submit(automl_config, show_output=True)"
   ]
  },
  {
   "cell_type": "code",
   "execution_count": null,
   "metadata": {},
   "outputs": [],
   "source": [
    "azureml.train.automl.utilities.get_primary_metrics('classification')"
   ]
  },
  {
   "cell_type": "code",
   "execution_count": null,
   "metadata": {},
   "outputs": [],
   "source": []
  }
 ],
 "metadata": {
  "kernelspec": {
   "display_name": "Python 3",
   "language": "python",
   "name": "python3"
  },
  "language_info": {
   "codemirror_mode": {
    "name": "ipython",
    "version": 3
   },
   "file_extension": ".py",
   "mimetype": "text/x-python",
   "name": "python",
   "nbconvert_exporter": "python",
   "pygments_lexer": "ipython3",
   "version": "3.7.3"
  }
 },
 "nbformat": 4,
 "nbformat_minor": 4
}
