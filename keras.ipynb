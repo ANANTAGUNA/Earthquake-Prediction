{
 "cells": [
  {
   "cell_type": "code",
   "execution_count": 51,
   "metadata": {},
   "outputs": [],
   "source": [
    "import numpy as np\n",
    "import pandas as pd\n",
    "from sklearn.model_selection import train_test_split\n",
    "from keras.models import Sequential\n",
    "from keras.layers import Dense, Activation, BatchNormalization, Dropout\n",
    "from keras.utils import to_categorical"
   ]
  },
  {
   "cell_type": "code",
   "execution_count": 25,
   "metadata": {},
   "outputs": [
    {
     "name": "stdout",
     "output_type": "stream",
     "text": [
      "[[0. 0. 1. 0.]\n",
      " [0. 0. 0. 1.]\n",
      " [0. 0. 0. 1.]\n",
      " ...\n",
      " [0. 0. 0. 1.]\n",
      " [0. 0. 0. 1.]\n",
      " [0. 0. 0. 1.]]\n"
     ]
    }
   ],
   "source": [
    "df = pd.read_csv('data/labeled_train.csv')\n",
    "labels = df[\"damage_grade\"]\n",
    "labels = to_categorical(labels)\n",
    "df.drop([\"damage_grade\"], axis=1, inplace=True)\n",
    "print(labels)"
   ]
  },
  {
   "cell_type": "code",
   "execution_count": 58,
   "metadata": {},
   "outputs": [],
   "source": [
    "model = Sequential([\n",
    "    Dense(64, input_dim=71),\n",
    "    Activation('tanh'),\n",
    "    Dense(32, input_dim=64),\n",
    "    Activation('tanh'),\n",
    "    BatchNormalization(),\n",
    "    Dropout(0.4),\n",
    "    Dense(4),\n",
    "    Activation('softmax'),\n",
    "])"
   ]
  },
  {
   "cell_type": "code",
   "execution_count": 59,
   "metadata": {},
   "outputs": [],
   "source": [
    "X_train, X_test, y_train, y_test = train_test_split(df, labels, test_size=0.2)"
   ]
  },
  {
   "cell_type": "code",
   "execution_count": 60,
   "metadata": {},
   "outputs": [
    {
     "name": "stdout",
     "output_type": "stream",
     "text": [
      "Train data shape:  (208480, 71)\n",
      "Train labels shape:  (208480, 4)\n"
     ]
    }
   ],
   "source": [
    "print('Train data shape: ', X_train.shape)\n",
    "print('Train labels shape: ', y_train.shape)"
   ]
  },
  {
   "cell_type": "code",
   "execution_count": 61,
   "metadata": {},
   "outputs": [],
   "source": [
    "model.compile(optimizer='sgd', loss='categorical_crossentropy', metrics=['accuracy'])"
   ]
  },
  {
   "cell_type": "code",
   "execution_count": 62,
   "metadata": {},
   "outputs": [
    {
     "name": "stdout",
     "output_type": "stream",
     "text": [
      "Epoch 1/30\n",
      "260601/260601 [==============================] - 3s 11us/step - loss: 0.9942 - accuracy: 0.5539\n",
      "Epoch 2/30\n",
      "260601/260601 [==============================] - 3s 10us/step - loss: 0.9216 - accuracy: 0.5688\n",
      "Epoch 3/30\n",
      "260601/260601 [==============================] - 3s 10us/step - loss: 0.9178 - accuracy: 0.5689\n",
      "Epoch 4/30\n",
      "260601/260601 [==============================] - 3s 10us/step - loss: 0.9161 - accuracy: 0.5689\n",
      "Epoch 5/30\n",
      "260601/260601 [==============================] - 3s 10us/step - loss: 0.9153 - accuracy: 0.5689\n",
      "Epoch 6/30\n",
      "260601/260601 [==============================] - 3s 11us/step - loss: 0.9148 - accuracy: 0.5689\n",
      "Epoch 7/30\n",
      "260601/260601 [==============================] - 3s 11us/step - loss: 0.9143 - accuracy: 0.5689\n",
      "Epoch 8/30\n",
      "260601/260601 [==============================] - 3s 10us/step - loss: 0.9142 - accuracy: 0.5689\n",
      "Epoch 9/30\n",
      "260601/260601 [==============================] - 3s 10us/step - loss: 0.9139 - accuracy: 0.5689\n",
      "Epoch 10/30\n",
      "260601/260601 [==============================] - 3s 10us/step - loss: 0.9138 - accuracy: 0.5689\n",
      "Epoch 11/30\n",
      "260601/260601 [==============================] - 3s 11us/step - loss: 0.9137 - accuracy: 0.5689\n",
      "Epoch 12/30\n",
      "260601/260601 [==============================] - 3s 11us/step - loss: 0.9135 - accuracy: 0.5689\n",
      "Epoch 13/30\n",
      "260601/260601 [==============================] - 3s 11us/step - loss: 0.9135 - accuracy: 0.5689\n",
      "Epoch 14/30\n",
      "260601/260601 [==============================] - 3s 10us/step - loss: 0.9134 - accuracy: 0.5689\n",
      "Epoch 15/30\n",
      "260601/260601 [==============================] - 3s 10us/step - loss: 0.9133 - accuracy: 0.5689\n",
      "Epoch 16/30\n",
      "260601/260601 [==============================] - 3s 10us/step - loss: 0.9133 - accuracy: 0.5689\n",
      "Epoch 17/30\n",
      "260601/260601 [==============================] - 3s 12us/step - loss: 0.9133 - accuracy: 0.5689\n",
      "Epoch 18/30\n",
      "260601/260601 [==============================] - 3s 11us/step - loss: 0.9133 - accuracy: 0.5689\n",
      "Epoch 19/30\n",
      "260601/260601 [==============================] - 3s 10us/step - loss: 0.9132 - accuracy: 0.5689\n",
      "Epoch 20/30\n",
      "260601/260601 [==============================] - 3s 11us/step - loss: 0.9132 - accuracy: 0.5689\n",
      "Epoch 21/30\n",
      "260601/260601 [==============================] - 3s 10us/step - loss: 0.9132 - accuracy: 0.5689\n",
      "Epoch 22/30\n",
      "260601/260601 [==============================] - 3s 11us/step - loss: 0.9132 - accuracy: 0.5689\n",
      "Epoch 23/30\n",
      "260601/260601 [==============================] - 3s 11us/step - loss: 0.9132 - accuracy: 0.5689\n",
      "Epoch 24/30\n",
      "260601/260601 [==============================] - 3s 13us/step - loss: 0.9132 - accuracy: 0.5689\n",
      "Epoch 25/30\n",
      "260601/260601 [==============================] - 3s 11us/step - loss: 0.9131 - accuracy: 0.5689\n",
      "Epoch 26/30\n",
      "260601/260601 [==============================] - 3s 11us/step - loss: 0.9131 - accuracy: 0.5689\n",
      "Epoch 27/30\n",
      "260601/260601 [==============================] - 3s 12us/step - loss: 0.9131 - accuracy: 0.5689\n",
      "Epoch 28/30\n",
      "260601/260601 [==============================] - 3s 10us/step - loss: 0.9131 - accuracy: 0.5689\n",
      "Epoch 29/30\n",
      "260601/260601 [==============================] - 3s 10us/step - loss: 0.9131 - accuracy: 0.5689\n",
      "Epoch 30/30\n",
      "260601/260601 [==============================] - 3s 11us/step - loss: 0.9131 - accuracy: 0.5689\n"
     ]
    },
    {
     "data": {
      "text/plain": [
       "<keras.callbacks.callbacks.History at 0x10d3d6c18>"
      ]
     },
     "execution_count": 62,
     "metadata": {},
     "output_type": "execute_result"
    }
   ],
   "source": [
    "model.fit(df, labels, epochs=30, batch_size=100)"
   ]
  },
  {
   "cell_type": "code",
   "execution_count": null,
   "metadata": {},
   "outputs": [],
   "source": []
  }
 ],
 "metadata": {
  "kernelspec": {
   "display_name": "Python 3",
   "language": "python",
   "name": "python3"
  },
  "language_info": {
   "codemirror_mode": {
    "name": "ipython",
    "version": 3
   },
   "file_extension": ".py",
   "mimetype": "text/x-python",
   "name": "python",
   "nbconvert_exporter": "python",
   "pygments_lexer": "ipython3",
   "version": "3.7.1"
  }
 },
 "nbformat": 4,
 "nbformat_minor": 2
}
