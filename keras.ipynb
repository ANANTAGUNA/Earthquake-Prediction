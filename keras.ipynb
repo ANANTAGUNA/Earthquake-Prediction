{
 "cells": [
  {
   "cell_type": "code",
   "execution_count": 16,
   "metadata": {},
   "outputs": [],
   "source": [
    "import numpy as np\n",
    "import pandas as pd\n",
    "import pydot\n",
    "from sklearn.model_selection import train_test_split\n",
    "from keras.models import Sequential\n",
    "from keras.layers import Dense, Activation, BatchNormalization, Dropout\n",
    "from keras.utils import to_categorical\n",
    "from keras.utils import plot_model\n"
   ]
  },
  {
   "cell_type": "code",
   "execution_count": 2,
   "metadata": {},
   "outputs": [
    {
     "name": "stdout",
     "output_type": "stream",
     "text": [
      "[[0. 0. 1. 0.]\n",
      " [0. 0. 0. 1.]\n",
      " [0. 0. 0. 1.]\n",
      " ...\n",
      " [0. 0. 0. 1.]\n",
      " [0. 0. 0. 1.]\n",
      " [0. 0. 0. 1.]]\n"
     ]
    }
   ],
   "source": [
    "df = pd.read_csv('data/labeled_train.csv')\n",
    "labels = df[\"damage_grade\"]\n",
    "labels = to_categorical(labels)\n",
    "df.drop([\"damage_grade\"], axis=1, inplace=True)\n",
    "print(labels)"
   ]
  },
  {
   "cell_type": "code",
   "execution_count": 3,
   "metadata": {},
   "outputs": [],
   "source": [
    "model = Sequential([\n",
    "    Dense(64, input_dim=71),\n",
    "    Activation('tanh'),\n",
    "    Dense(32, input_dim=64),\n",
    "    Activation('tanh'),\n",
    "    BatchNormalization(),\n",
    "    Dropout(0.4),\n",
    "    Dense(4),\n",
    "    Activation('softmax'),\n",
    "])"
   ]
  },
  {
   "cell_type": "code",
   "execution_count": 4,
   "metadata": {},
   "outputs": [],
   "source": [
    "X_train, X_test, y_train, y_test = train_test_split(df, labels, test_size=0.2)"
   ]
  },
  {
   "cell_type": "code",
   "execution_count": 5,
   "metadata": {},
   "outputs": [
    {
     "name": "stdout",
     "output_type": "stream",
     "text": [
      "Train data shape:  (208480, 71)\n",
      "Train labels shape:  (208480, 4)\n"
     ]
    }
   ],
   "source": [
    "print('Train data shape: ', X_train.shape)\n",
    "print('Train labels shape: ', y_train.shape)"
   ]
  },
  {
   "cell_type": "code",
   "execution_count": 6,
   "metadata": {},
   "outputs": [],
   "source": [
    "model.compile(optimizer='sgd', loss='categorical_crossentropy', metrics=['accuracy'])"
   ]
  },
  {
   "cell_type": "code",
   "execution_count": 7,
   "metadata": {},
   "outputs": [
    {
     "name": "stdout",
     "output_type": "stream",
     "text": [
      "Epoch 1/30\n",
      "260601/260601 [==============================] - 3s 11us/step - loss: 1.0006 - accuracy: 0.5505\n",
      "Epoch 2/30\n",
      "260601/260601 [==============================] - 3s 11us/step - loss: 0.9222 - accuracy: 0.5687\n",
      "Epoch 3/30\n",
      "260601/260601 [==============================] - 3s 10us/step - loss: 0.9180 - accuracy: 0.5688\n",
      "Epoch 4/30\n",
      "260601/260601 [==============================] - 3s 11us/step - loss: 0.9164 - accuracy: 0.5688\n",
      "Epoch 5/30\n",
      "260601/260601 [==============================] - 3s 11us/step - loss: 0.9157 - accuracy: 0.5689\n",
      "Epoch 6/30\n",
      "260601/260601 [==============================] - 3s 11us/step - loss: 0.9150 - accuracy: 0.5689\n",
      "Epoch 7/30\n",
      "260601/260601 [==============================] - 3s 11us/step - loss: 0.9146 - accuracy: 0.5689\n",
      "Epoch 8/30\n",
      "260601/260601 [==============================] - 3s 11us/step - loss: 0.9143 - accuracy: 0.5689\n",
      "Epoch 9/30\n",
      "260601/260601 [==============================] - 3s 11us/step - loss: 0.9142 - accuracy: 0.5689\n",
      "Epoch 10/30\n",
      "260601/260601 [==============================] - 4s 16us/step - loss: 0.9139 - accuracy: 0.5689\n",
      "Epoch 11/30\n",
      "260601/260601 [==============================] - 3s 13us/step - loss: 0.9137 - accuracy: 0.5689\n",
      "Epoch 12/30\n",
      "260601/260601 [==============================] - 3s 11us/step - loss: 0.9138 - accuracy: 0.5689\n",
      "Epoch 13/30\n",
      "260601/260601 [==============================] - 3s 10us/step - loss: 0.9136 - accuracy: 0.5689\n",
      "Epoch 14/30\n",
      "260601/260601 [==============================] - 3s 10us/step - loss: 0.9135 - accuracy: 0.5689\n",
      "Epoch 15/30\n",
      "260601/260601 [==============================] - 3s 10us/step - loss: 0.9135 - accuracy: 0.5689\n",
      "Epoch 16/30\n",
      "260601/260601 [==============================] - 3s 10us/step - loss: 0.9134 - accuracy: 0.5689\n",
      "Epoch 17/30\n",
      "260601/260601 [==============================] - 3s 10us/step - loss: 0.9133 - accuracy: 0.5689\n",
      "Epoch 18/30\n",
      "260601/260601 [==============================] - 3s 11us/step - loss: 0.9133 - accuracy: 0.5689\n",
      "Epoch 19/30\n",
      "260601/260601 [==============================] - 3s 11us/step - loss: 0.9133 - accuracy: 0.5689\n",
      "Epoch 20/30\n",
      "260601/260601 [==============================] - 3s 11us/step - loss: 0.9133 - accuracy: 0.5689\n",
      "Epoch 21/30\n",
      "260601/260601 [==============================] - 3s 10us/step - loss: 0.9132 - accuracy: 0.5689\n",
      "Epoch 22/30\n",
      "260601/260601 [==============================] - 3s 10us/step - loss: 0.9131 - accuracy: 0.5689\n",
      "Epoch 23/30\n",
      "260601/260601 [==============================] - 3s 10us/step - loss: 0.9132 - accuracy: 0.5689\n",
      "Epoch 24/30\n",
      "260601/260601 [==============================] - 3s 10us/step - loss: 0.9132 - accuracy: 0.5689\n",
      "Epoch 25/30\n",
      "260601/260601 [==============================] - 3s 12us/step - loss: 0.9131 - accuracy: 0.5689\n",
      "Epoch 26/30\n",
      "260601/260601 [==============================] - 3s 10us/step - loss: 0.9131 - accuracy: 0.5689\n",
      "Epoch 27/30\n",
      "260601/260601 [==============================] - 3s 11us/step - loss: 0.9131 - accuracy: 0.5689 0s - l\n",
      "Epoch 28/30\n",
      "260601/260601 [==============================] - 3s 11us/step - loss: 0.9131 - accuracy: 0.5689\n",
      "Epoch 29/30\n",
      "260601/260601 [==============================] - 3s 13us/step - loss: 0.9131 - accuracy: 0.5689\n",
      "Epoch 30/30\n",
      "260601/260601 [==============================] - 3s 11us/step - loss: 0.9131 - accuracy: 0.5689\n"
     ]
    },
    {
     "data": {
      "text/plain": [
       "<keras.callbacks.callbacks.History at 0x1a33437090>"
      ]
     },
     "execution_count": 7,
     "metadata": {},
     "output_type": "execute_result"
    }
   ],
   "source": [
    "model.fit(df, labels, epochs=30, batch_size=100)"
   ]
  },
  {
   "cell_type": "code",
   "execution_count": 17,
   "metadata": {},
   "outputs": [
    {
     "ename": "ImportError",
     "evalue": "Failed to import `pydot`. Please install `pydot`. For example with `pip install pydot`.",
     "output_type": "error",
     "traceback": [
      "\u001b[0;31m---------------------------------------\u001b[0m",
      "\u001b[0;31mImportError\u001b[0mTraceback (most recent call last)",
      "\u001b[0;32m<ipython-input-17-b950b8cba428>\u001b[0m in \u001b[0;36m<module>\u001b[0;34m\u001b[0m\n\u001b[0;32m----> 1\u001b[0;31m \u001b[0mplot_model\u001b[0m\u001b[0;34m(\u001b[0m\u001b[0mmodel\u001b[0m\u001b[0;34m,\u001b[0m \u001b[0mto_file\u001b[0m\u001b[0;34m=\u001b[0m\u001b[0;34m'model.png'\u001b[0m\u001b[0;34m)\u001b[0m\u001b[0;34m\u001b[0m\u001b[0;34m\u001b[0m\u001b[0m\n\u001b[0m",
      "\u001b[0;32m~/anaconda3/lib/python3.7/site-packages/keras/utils/vis_utils.py\u001b[0m in \u001b[0;36mplot_model\u001b[0;34m(model, to_file, show_shapes, show_layer_names, rankdir, expand_nested, dpi)\u001b[0m\n\u001b[1;32m    238\u001b[0m     \"\"\"\n\u001b[1;32m    239\u001b[0m     dot = model_to_dot(model, show_shapes, show_layer_names, rankdir,\n\u001b[0;32m--> 240\u001b[0;31m                        expand_nested, dpi)\n\u001b[0m\u001b[1;32m    241\u001b[0m     \u001b[0m_\u001b[0m\u001b[0;34m,\u001b[0m \u001b[0mextension\u001b[0m \u001b[0;34m=\u001b[0m \u001b[0mos\u001b[0m\u001b[0;34m.\u001b[0m\u001b[0mpath\u001b[0m\u001b[0;34m.\u001b[0m\u001b[0msplitext\u001b[0m\u001b[0;34m(\u001b[0m\u001b[0mto_file\u001b[0m\u001b[0;34m)\u001b[0m\u001b[0;34m\u001b[0m\u001b[0;34m\u001b[0m\u001b[0m\n\u001b[1;32m    242\u001b[0m     \u001b[0;32mif\u001b[0m \u001b[0;32mnot\u001b[0m \u001b[0mextension\u001b[0m\u001b[0;34m:\u001b[0m\u001b[0;34m\u001b[0m\u001b[0;34m\u001b[0m\u001b[0m\n",
      "\u001b[0;32m~/anaconda3/lib/python3.7/site-packages/keras/utils/vis_utils.py\u001b[0m in \u001b[0;36mmodel_to_dot\u001b[0;34m(model, show_shapes, show_layer_names, rankdir, expand_nested, dpi, subgraph)\u001b[0m\n\u001b[1;32m     77\u001b[0m     \u001b[0;32mfrom\u001b[0m \u001b[0;34m.\u001b[0m\u001b[0;34m.\u001b[0m\u001b[0mmodels\u001b[0m \u001b[0;32mimport\u001b[0m \u001b[0mSequential\u001b[0m\u001b[0;34m\u001b[0m\u001b[0;34m\u001b[0m\u001b[0m\n\u001b[1;32m     78\u001b[0m \u001b[0;34m\u001b[0m\u001b[0m\n\u001b[0;32m---> 79\u001b[0;31m     \u001b[0m_check_pydot\u001b[0m\u001b[0;34m(\u001b[0m\u001b[0;34m)\u001b[0m\u001b[0;34m\u001b[0m\u001b[0;34m\u001b[0m\u001b[0m\n\u001b[0m\u001b[1;32m     80\u001b[0m     \u001b[0;32mif\u001b[0m \u001b[0msubgraph\u001b[0m\u001b[0;34m:\u001b[0m\u001b[0;34m\u001b[0m\u001b[0;34m\u001b[0m\u001b[0m\n\u001b[1;32m     81\u001b[0m         \u001b[0mdot\u001b[0m \u001b[0;34m=\u001b[0m \u001b[0mpydot\u001b[0m\u001b[0;34m.\u001b[0m\u001b[0mCluster\u001b[0m\u001b[0;34m(\u001b[0m\u001b[0mstyle\u001b[0m\u001b[0;34m=\u001b[0m\u001b[0;34m'dashed'\u001b[0m\u001b[0;34m,\u001b[0m \u001b[0mgraph_name\u001b[0m\u001b[0;34m=\u001b[0m\u001b[0mmodel\u001b[0m\u001b[0;34m.\u001b[0m\u001b[0mname\u001b[0m\u001b[0;34m)\u001b[0m\u001b[0;34m\u001b[0m\u001b[0;34m\u001b[0m\u001b[0m\n",
      "\u001b[0;32m~/anaconda3/lib/python3.7/site-packages/keras/utils/vis_utils.py\u001b[0m in \u001b[0;36m_check_pydot\u001b[0;34m()\u001b[0m\n\u001b[1;32m     20\u001b[0m     \u001b[0;32mif\u001b[0m \u001b[0mpydot\u001b[0m \u001b[0;32mis\u001b[0m \u001b[0;32mNone\u001b[0m\u001b[0;34m:\u001b[0m\u001b[0;34m\u001b[0m\u001b[0;34m\u001b[0m\u001b[0m\n\u001b[1;32m     21\u001b[0m         raise ImportError(\n\u001b[0;32m---> 22\u001b[0;31m             \u001b[0;34m'Failed to import `pydot`. '\u001b[0m\u001b[0;34m\u001b[0m\u001b[0;34m\u001b[0m\u001b[0m\n\u001b[0m\u001b[1;32m     23\u001b[0m             \u001b[0;34m'Please install `pydot`. '\u001b[0m\u001b[0;34m\u001b[0m\u001b[0;34m\u001b[0m\u001b[0m\n\u001b[1;32m     24\u001b[0m             'For example with `pip install pydot`.')\n",
      "\u001b[0;31mImportError\u001b[0m: Failed to import `pydot`. Please install `pydot`. For example with `pip install pydot`."
     ]
    }
   ],
   "source": [
    "plot_model(model, to_file='model.png')"
   ]
  },
  {
   "cell_type": "code",
   "execution_count": null,
   "metadata": {},
   "outputs": [],
   "source": []
  }
 ],
 "metadata": {
  "kernelspec": {
   "display_name": "Python 3",
   "language": "python",
   "name": "python3"
  },
  "language_info": {
   "codemirror_mode": {
    "name": "ipython",
    "version": 3
   },
   "file_extension": ".py",
   "mimetype": "text/x-python",
   "name": "python",
   "nbconvert_exporter": "python",
   "pygments_lexer": "ipython3",
   "version": "3.7.5"
  }
 },
 "nbformat": 4,
 "nbformat_minor": 4
}
