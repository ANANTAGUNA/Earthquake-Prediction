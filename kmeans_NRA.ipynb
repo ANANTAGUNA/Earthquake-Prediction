{
 "cells": [
  {
   "cell_type": "code",
   "execution_count": 2,
   "metadata": {},
   "outputs": [],
   "source": [
    "import pandas as pd\n",
    "import numpy as np\n",
    "import matplotlib.pyplot as plt\n",
    "import seaborn as sns\n",
    "from sklearn.model_selection import KFold\n",
    "from sklearn.cluster import KMeans\n",
    "from sklearn.decomposition import PCA\n",
    "from sklearn.model_selection import train_test_split"
   ]
  },
  {
   "cell_type": "code",
   "execution_count": 3,
   "metadata": {},
   "outputs": [],
   "source": [
    "df = pd.read_csv('data/labeled_train.csv')"
   ]
  },
  {
   "cell_type": "code",
   "execution_count": 4,
   "metadata": {},
   "outputs": [
    {
     "data": {
      "text/html": [
       "<div>\n",
       "<style scoped>\n",
       "    .dataframe tbody tr th:only-of-type {\n",
       "        vertical-align: middle;\n",
       "    }\n",
       "\n",
       "    .dataframe tbody tr th {\n",
       "        vertical-align: top;\n",
       "    }\n",
       "\n",
       "    .dataframe thead th {\n",
       "        text-align: right;\n",
       "    }\n",
       "</style>\n",
       "<table border=\"1\" class=\"dataframe\">\n",
       "  <thead>\n",
       "    <tr style=\"text-align: right;\">\n",
       "      <th></th>\n",
       "      <th>Unnamed: 0</th>\n",
       "      <th>Unnamed: 0.1</th>\n",
       "      <th>building_id</th>\n",
       "      <th>geo_level_1_id</th>\n",
       "      <th>geo_level_2_id</th>\n",
       "      <th>geo_level_3_id</th>\n",
       "      <th>count_floors_pre_eq</th>\n",
       "      <th>age</th>\n",
       "      <th>area_percentage</th>\n",
       "      <th>height_percentage</th>\n",
       "      <th>...</th>\n",
       "      <th>plan_configuration_m</th>\n",
       "      <th>plan_configuration_n</th>\n",
       "      <th>plan_configuration_o</th>\n",
       "      <th>plan_configuration_q</th>\n",
       "      <th>plan_configuration_s</th>\n",
       "      <th>plan_configuration_u</th>\n",
       "      <th>legal_ownership_status_a</th>\n",
       "      <th>legal_ownership_status_r</th>\n",
       "      <th>legal_ownership_status_v</th>\n",
       "      <th>legal_ownership_status_w</th>\n",
       "    </tr>\n",
       "  </thead>\n",
       "  <tbody>\n",
       "    <tr>\n",
       "      <td>0</td>\n",
       "      <td>0</td>\n",
       "      <td>47748</td>\n",
       "      <td>4</td>\n",
       "      <td>30</td>\n",
       "      <td>266</td>\n",
       "      <td>1224</td>\n",
       "      <td>1</td>\n",
       "      <td>25</td>\n",
       "      <td>5</td>\n",
       "      <td>2</td>\n",
       "      <td>...</td>\n",
       "      <td>0</td>\n",
       "      <td>0</td>\n",
       "      <td>0</td>\n",
       "      <td>0</td>\n",
       "      <td>0</td>\n",
       "      <td>0</td>\n",
       "      <td>0</td>\n",
       "      <td>0</td>\n",
       "      <td>1</td>\n",
       "      <td>0</td>\n",
       "    </tr>\n",
       "    <tr>\n",
       "      <td>1</td>\n",
       "      <td>1</td>\n",
       "      <td>212102</td>\n",
       "      <td>8</td>\n",
       "      <td>17</td>\n",
       "      <td>409</td>\n",
       "      <td>12182</td>\n",
       "      <td>2</td>\n",
       "      <td>0</td>\n",
       "      <td>13</td>\n",
       "      <td>7</td>\n",
       "      <td>...</td>\n",
       "      <td>0</td>\n",
       "      <td>0</td>\n",
       "      <td>0</td>\n",
       "      <td>0</td>\n",
       "      <td>0</td>\n",
       "      <td>0</td>\n",
       "      <td>0</td>\n",
       "      <td>0</td>\n",
       "      <td>1</td>\n",
       "      <td>0</td>\n",
       "    </tr>\n",
       "    <tr>\n",
       "      <td>2</td>\n",
       "      <td>2</td>\n",
       "      <td>60133</td>\n",
       "      <td>12</td>\n",
       "      <td>17</td>\n",
       "      <td>716</td>\n",
       "      <td>7056</td>\n",
       "      <td>2</td>\n",
       "      <td>5</td>\n",
       "      <td>12</td>\n",
       "      <td>6</td>\n",
       "      <td>...</td>\n",
       "      <td>0</td>\n",
       "      <td>0</td>\n",
       "      <td>0</td>\n",
       "      <td>0</td>\n",
       "      <td>0</td>\n",
       "      <td>0</td>\n",
       "      <td>0</td>\n",
       "      <td>0</td>\n",
       "      <td>1</td>\n",
       "      <td>0</td>\n",
       "    </tr>\n",
       "    <tr>\n",
       "      <td>3</td>\n",
       "      <td>3</td>\n",
       "      <td>34181</td>\n",
       "      <td>16</td>\n",
       "      <td>4</td>\n",
       "      <td>651</td>\n",
       "      <td>105</td>\n",
       "      <td>2</td>\n",
       "      <td>80</td>\n",
       "      <td>5</td>\n",
       "      <td>4</td>\n",
       "      <td>...</td>\n",
       "      <td>0</td>\n",
       "      <td>0</td>\n",
       "      <td>0</td>\n",
       "      <td>0</td>\n",
       "      <td>0</td>\n",
       "      <td>0</td>\n",
       "      <td>0</td>\n",
       "      <td>0</td>\n",
       "      <td>1</td>\n",
       "      <td>0</td>\n",
       "    </tr>\n",
       "    <tr>\n",
       "      <td>4</td>\n",
       "      <td>4</td>\n",
       "      <td>25045</td>\n",
       "      <td>17</td>\n",
       "      <td>3</td>\n",
       "      <td>1387</td>\n",
       "      <td>3909</td>\n",
       "      <td>5</td>\n",
       "      <td>40</td>\n",
       "      <td>5</td>\n",
       "      <td>10</td>\n",
       "      <td>...</td>\n",
       "      <td>0</td>\n",
       "      <td>0</td>\n",
       "      <td>0</td>\n",
       "      <td>0</td>\n",
       "      <td>0</td>\n",
       "      <td>0</td>\n",
       "      <td>0</td>\n",
       "      <td>0</td>\n",
       "      <td>1</td>\n",
       "      <td>0</td>\n",
       "    </tr>\n",
       "  </tbody>\n",
       "</table>\n",
       "<p>5 rows × 72 columns</p>\n",
       "</div>"
      ],
      "text/plain": [
       "   Unnamed: 0  Unnamed: 0.1  building_id  geo_level_1_id  geo_level_2_id  \\\n",
       "0           0         47748            4              30             266   \n",
       "1           1        212102            8              17             409   \n",
       "2           2         60133           12              17             716   \n",
       "3           3         34181           16               4             651   \n",
       "4           4         25045           17               3            1387   \n",
       "\n",
       "   geo_level_3_id  count_floors_pre_eq  age  area_percentage  \\\n",
       "0            1224                    1   25                5   \n",
       "1           12182                    2    0               13   \n",
       "2            7056                    2    5               12   \n",
       "3             105                    2   80                5   \n",
       "4            3909                    5   40                5   \n",
       "\n",
       "   height_percentage  ...  plan_configuration_m  plan_configuration_n  \\\n",
       "0                  2  ...                     0                     0   \n",
       "1                  7  ...                     0                     0   \n",
       "2                  6  ...                     0                     0   \n",
       "3                  4  ...                     0                     0   \n",
       "4                 10  ...                     0                     0   \n",
       "\n",
       "   plan_configuration_o  plan_configuration_q  plan_configuration_s  \\\n",
       "0                     0                     0                     0   \n",
       "1                     0                     0                     0   \n",
       "2                     0                     0                     0   \n",
       "3                     0                     0                     0   \n",
       "4                     0                     0                     0   \n",
       "\n",
       "   plan_configuration_u  legal_ownership_status_a  legal_ownership_status_r  \\\n",
       "0                     0                         0                         0   \n",
       "1                     0                         0                         0   \n",
       "2                     0                         0                         0   \n",
       "3                     0                         0                         0   \n",
       "4                     0                         0                         0   \n",
       "\n",
       "   legal_ownership_status_v  legal_ownership_status_w  \n",
       "0                         1                         0  \n",
       "1                         1                         0  \n",
       "2                         1                         0  \n",
       "3                         1                         0  \n",
       "4                         1                         0  \n",
       "\n",
       "[5 rows x 72 columns]"
      ]
     },
     "execution_count": 4,
     "metadata": {},
     "output_type": "execute_result"
    }
   ],
   "source": [
    "df.head()"
   ]
  },
  {
   "cell_type": "code",
   "execution_count": 5,
   "metadata": {},
   "outputs": [],
   "source": [
    "labels = df[\"damage_grade\"]\n",
    "df.drop([\"damage_grade\"], axis=1, inplace=True)"
   ]
  },
  {
   "cell_type": "code",
   "execution_count": 6,
   "metadata": {},
   "outputs": [
    {
     "data": {
      "text/html": [
       "<div>\n",
       "<style scoped>\n",
       "    .dataframe tbody tr th:only-of-type {\n",
       "        vertical-align: middle;\n",
       "    }\n",
       "\n",
       "    .dataframe tbody tr th {\n",
       "        vertical-align: top;\n",
       "    }\n",
       "\n",
       "    .dataframe thead th {\n",
       "        text-align: right;\n",
       "    }\n",
       "</style>\n",
       "<table border=\"1\" class=\"dataframe\">\n",
       "  <thead>\n",
       "    <tr style=\"text-align: right;\">\n",
       "      <th></th>\n",
       "      <th>Unnamed: 0</th>\n",
       "      <th>Unnamed: 0.1</th>\n",
       "      <th>building_id</th>\n",
       "      <th>geo_level_1_id</th>\n",
       "      <th>geo_level_2_id</th>\n",
       "      <th>geo_level_3_id</th>\n",
       "      <th>count_floors_pre_eq</th>\n",
       "      <th>age</th>\n",
       "      <th>area_percentage</th>\n",
       "      <th>height_percentage</th>\n",
       "      <th>...</th>\n",
       "      <th>plan_configuration_m</th>\n",
       "      <th>plan_configuration_n</th>\n",
       "      <th>plan_configuration_o</th>\n",
       "      <th>plan_configuration_q</th>\n",
       "      <th>plan_configuration_s</th>\n",
       "      <th>plan_configuration_u</th>\n",
       "      <th>legal_ownership_status_a</th>\n",
       "      <th>legal_ownership_status_r</th>\n",
       "      <th>legal_ownership_status_v</th>\n",
       "      <th>legal_ownership_status_w</th>\n",
       "    </tr>\n",
       "  </thead>\n",
       "  <tbody>\n",
       "    <tr>\n",
       "      <td>0</td>\n",
       "      <td>0</td>\n",
       "      <td>47748</td>\n",
       "      <td>4</td>\n",
       "      <td>30</td>\n",
       "      <td>266</td>\n",
       "      <td>1224</td>\n",
       "      <td>1</td>\n",
       "      <td>25</td>\n",
       "      <td>5</td>\n",
       "      <td>2</td>\n",
       "      <td>...</td>\n",
       "      <td>0</td>\n",
       "      <td>0</td>\n",
       "      <td>0</td>\n",
       "      <td>0</td>\n",
       "      <td>0</td>\n",
       "      <td>0</td>\n",
       "      <td>0</td>\n",
       "      <td>0</td>\n",
       "      <td>1</td>\n",
       "      <td>0</td>\n",
       "    </tr>\n",
       "    <tr>\n",
       "      <td>1</td>\n",
       "      <td>1</td>\n",
       "      <td>212102</td>\n",
       "      <td>8</td>\n",
       "      <td>17</td>\n",
       "      <td>409</td>\n",
       "      <td>12182</td>\n",
       "      <td>2</td>\n",
       "      <td>0</td>\n",
       "      <td>13</td>\n",
       "      <td>7</td>\n",
       "      <td>...</td>\n",
       "      <td>0</td>\n",
       "      <td>0</td>\n",
       "      <td>0</td>\n",
       "      <td>0</td>\n",
       "      <td>0</td>\n",
       "      <td>0</td>\n",
       "      <td>0</td>\n",
       "      <td>0</td>\n",
       "      <td>1</td>\n",
       "      <td>0</td>\n",
       "    </tr>\n",
       "    <tr>\n",
       "      <td>2</td>\n",
       "      <td>2</td>\n",
       "      <td>60133</td>\n",
       "      <td>12</td>\n",
       "      <td>17</td>\n",
       "      <td>716</td>\n",
       "      <td>7056</td>\n",
       "      <td>2</td>\n",
       "      <td>5</td>\n",
       "      <td>12</td>\n",
       "      <td>6</td>\n",
       "      <td>...</td>\n",
       "      <td>0</td>\n",
       "      <td>0</td>\n",
       "      <td>0</td>\n",
       "      <td>0</td>\n",
       "      <td>0</td>\n",
       "      <td>0</td>\n",
       "      <td>0</td>\n",
       "      <td>0</td>\n",
       "      <td>1</td>\n",
       "      <td>0</td>\n",
       "    </tr>\n",
       "    <tr>\n",
       "      <td>3</td>\n",
       "      <td>3</td>\n",
       "      <td>34181</td>\n",
       "      <td>16</td>\n",
       "      <td>4</td>\n",
       "      <td>651</td>\n",
       "      <td>105</td>\n",
       "      <td>2</td>\n",
       "      <td>80</td>\n",
       "      <td>5</td>\n",
       "      <td>4</td>\n",
       "      <td>...</td>\n",
       "      <td>0</td>\n",
       "      <td>0</td>\n",
       "      <td>0</td>\n",
       "      <td>0</td>\n",
       "      <td>0</td>\n",
       "      <td>0</td>\n",
       "      <td>0</td>\n",
       "      <td>0</td>\n",
       "      <td>1</td>\n",
       "      <td>0</td>\n",
       "    </tr>\n",
       "    <tr>\n",
       "      <td>4</td>\n",
       "      <td>4</td>\n",
       "      <td>25045</td>\n",
       "      <td>17</td>\n",
       "      <td>3</td>\n",
       "      <td>1387</td>\n",
       "      <td>3909</td>\n",
       "      <td>5</td>\n",
       "      <td>40</td>\n",
       "      <td>5</td>\n",
       "      <td>10</td>\n",
       "      <td>...</td>\n",
       "      <td>0</td>\n",
       "      <td>0</td>\n",
       "      <td>0</td>\n",
       "      <td>0</td>\n",
       "      <td>0</td>\n",
       "      <td>0</td>\n",
       "      <td>0</td>\n",
       "      <td>0</td>\n",
       "      <td>1</td>\n",
       "      <td>0</td>\n",
       "    </tr>\n",
       "  </tbody>\n",
       "</table>\n",
       "<p>5 rows × 71 columns</p>\n",
       "</div>"
      ],
      "text/plain": [
       "   Unnamed: 0  Unnamed: 0.1  building_id  geo_level_1_id  geo_level_2_id  \\\n",
       "0           0         47748            4              30             266   \n",
       "1           1        212102            8              17             409   \n",
       "2           2         60133           12              17             716   \n",
       "3           3         34181           16               4             651   \n",
       "4           4         25045           17               3            1387   \n",
       "\n",
       "   geo_level_3_id  count_floors_pre_eq  age  area_percentage  \\\n",
       "0            1224                    1   25                5   \n",
       "1           12182                    2    0               13   \n",
       "2            7056                    2    5               12   \n",
       "3             105                    2   80                5   \n",
       "4            3909                    5   40                5   \n",
       "\n",
       "   height_percentage  ...  plan_configuration_m  plan_configuration_n  \\\n",
       "0                  2  ...                     0                     0   \n",
       "1                  7  ...                     0                     0   \n",
       "2                  6  ...                     0                     0   \n",
       "3                  4  ...                     0                     0   \n",
       "4                 10  ...                     0                     0   \n",
       "\n",
       "   plan_configuration_o  plan_configuration_q  plan_configuration_s  \\\n",
       "0                     0                     0                     0   \n",
       "1                     0                     0                     0   \n",
       "2                     0                     0                     0   \n",
       "3                     0                     0                     0   \n",
       "4                     0                     0                     0   \n",
       "\n",
       "   plan_configuration_u  legal_ownership_status_a  legal_ownership_status_r  \\\n",
       "0                     0                         0                         0   \n",
       "1                     0                         0                         0   \n",
       "2                     0                         0                         0   \n",
       "3                     0                         0                         0   \n",
       "4                     0                         0                         0   \n",
       "\n",
       "   legal_ownership_status_v  legal_ownership_status_w  \n",
       "0                         1                         0  \n",
       "1                         1                         0  \n",
       "2                         1                         0  \n",
       "3                         1                         0  \n",
       "4                         1                         0  \n",
       "\n",
       "[5 rows x 71 columns]"
      ]
     },
     "execution_count": 6,
     "metadata": {},
     "output_type": "execute_result"
    }
   ],
   "source": [
    "df.head()"
   ]
  },
  {
   "cell_type": "code",
   "execution_count": 7,
   "metadata": {},
   "outputs": [
    {
     "data": {
      "text/plain": [
       "0    2\n",
       "1    3\n",
       "2    3\n",
       "3    2\n",
       "4    2\n",
       "Name: damage_grade, dtype: int64"
      ]
     },
     "execution_count": 7,
     "metadata": {},
     "output_type": "execute_result"
    }
   ],
   "source": [
    "labels.head()"
   ]
  },
  {
   "cell_type": "code",
   "execution_count": 8,
   "metadata": {},
   "outputs": [],
   "source": [
    "x_train, x_test, y_train, y_test = train_test_split(df, labels, test_size=.2)"
   ]
  },
  {
   "cell_type": "code",
   "execution_count": null,
   "metadata": {},
   "outputs": [],
   "source": []
  },
  {
   "cell_type": "code",
   "execution_count": 9,
   "metadata": {},
   "outputs": [
    {
     "data": {
      "text/plain": [
       "array([[1.31111500e+05, 1.30171376e+05, 5.29071197e+05, 1.39076880e+01,\n",
       "        7.01333718e+02, 6.27522878e+03, 2.12636296e+00, 2.65519890e+01,\n",
       "        8.01837692e+00, 5.42164110e+00, 8.85580299e-02, 7.61250231e-01,\n",
       "        3.37391425e-02, 1.89775457e-02, 6.82752726e-02, 7.52055997e-02,\n",
       "        2.56514507e-01, 8.63749769e-02, 4.25868601e-02, 1.54084273e-02,\n",
       "        1.46922935e-02, 9.84094899e-01, 1.11405008e-01, 6.35279985e-02,\n",
       "        3.39817039e-02, 8.08538163e-03, 8.66290889e-04, 3.92718536e-04,\n",
       "        9.58695250e-04, 1.84808723e-04, 1.38606542e-04, 8.08538163e-05,\n",
       "        5.33635188e-03, 5.52116060e-03, 4.04731103e-02, 8.40960543e-01,\n",
       "        5.43568656e-02, 5.86883201e-02, 1.36793107e-01, 3.22722232e-02,\n",
       "        8.30934670e-01, 7.02365552e-01, 2.35966088e-01, 6.16683607e-02,\n",
       "        8.05523471e-01, 1.91739050e-03, 9.41369433e-02, 9.46451673e-02,\n",
       "        3.77702828e-03, 1.52952319e-01, 6.34864166e-01, 4.55669008e-02,\n",
       "        1.66616614e-01, 5.07877472e-02, 9.00942524e-03, 7.75422750e-01,\n",
       "        1.64780078e-01, 9.81796341e-04, 1.52467196e-03, 9.59769451e-01,\n",
       "        6.93032711e-05, 1.73258178e-04, 1.03954907e-04, 6.81482166e-04,\n",
       "        2.15186657e-02, 1.46691924e-03, 1.37104971e-02, 2.14724635e-02,\n",
       "        5.75217150e-03, 9.62195066e-01, 1.05802994e-02],\n",
       "       [2.17500000e+05, 1.30310474e+05, 8.78705692e+05, 1.38664169e+01,\n",
       "        7.01476851e+02, 6.24952450e+03, 2.13162260e+00, 2.63110637e+01,\n",
       "        8.00302781e+00, 5.44208304e+00, 8.86416631e-02, 7.63401817e-01,\n",
       "        3.49879932e-02, 1.79696291e-02, 6.71337920e-02, 7.59039918e-02,\n",
       "        2.55252259e-01, 8.48018004e-02, 4.30041415e-02, 1.57306760e-02,\n",
       "        1.54174546e-02, 9.83608079e-01, 1.12690108e-01, 6.55560840e-02,\n",
       "        3.34798900e-02, 7.87693878e-03, 9.62865860e-04, 3.36423011e-04,\n",
       "        1.22968411e-03, 1.85612696e-04, 1.39209522e-04, 5.80039675e-05,\n",
       "        4.82593009e-03, 5.51037691e-03, 4.04519669e-02, 8.42264011e-01,\n",
       "        5.47905477e-02, 5.69830976e-02, 1.38014640e-01, 3.14961543e-02,\n",
       "        8.30489205e-01, 7.00444310e-01, 2.36981010e-01, 6.25746801e-02,\n",
       "        8.04306215e-01, 2.19254997e-03, 9.42448463e-02, 9.54165265e-02,\n",
       "        3.83986265e-03, 1.52863656e-01, 6.33252514e-01, 4.67976010e-02,\n",
       "        1.67086229e-01, 5.14031160e-02, 8.64259115e-03, 7.77009547e-01,\n",
       "        1.62944745e-01, 1.03247062e-03, 1.14847856e-03, 9.59188408e-01,\n",
       "        1.27608728e-04, 1.39209522e-04, 1.85612696e-04, 5.33636501e-04,\n",
       "        2.19719029e-02, 1.36889363e-03, 1.43037784e-02, 2.06494124e-02,\n",
       "        5.46397374e-03, 9.64014339e-01, 9.87227526e-03],\n",
       "       [4.39115004e+04, 1.30416516e+05, 1.75821861e+05, 1.39264324e+01,\n",
       "        7.00424599e+02, 6.24896741e+03, 2.13117143e+00, 2.67381354e+01,\n",
       "        8.03247404e+00, 5.43933321e+00, 8.87342868e-02, 7.61170067e-01,\n",
       "        3.42730916e-02, 1.77627983e-02, 6.90357989e-02, 7.47062306e-02,\n",
       "        2.53222354e-01, 8.38722900e-02, 4.21866460e-02, 1.64305884e-02,\n",
       "        1.48478776e-02, 9.84138732e-01, 1.11552651e-01, 6.40599381e-02,\n",
       "        3.34191109e-02, 8.33485152e-03, 9.90617599e-04, 3.52978685e-04,\n",
       "        1.02477683e-03, 1.93568956e-04, 1.59409729e-04, 1.25250501e-04,\n",
       "        5.19220259e-03, 5.63627255e-03, 4.08544361e-02, 8.40146201e-01,\n",
       "        5.50077428e-02, 5.83553471e-02, 1.34222991e-01, 3.19616506e-02,\n",
       "        8.33815358e-01, 7.02029058e-01, 2.35915012e-01, 6.20559300e-02,\n",
       "        8.03288395e-01, 1.74212060e-03, 9.47235380e-02, 9.63062489e-02,\n",
       "        3.93969758e-03, 1.52851157e-01, 6.34575970e-01, 4.61035708e-02,\n",
       "        1.66469302e-01, 5.07150665e-02, 9.20021862e-03, 7.74025323e-01,\n",
       "        1.66059392e-01, 8.88139916e-04, 1.07032246e-03, 9.59828748e-01,\n",
       "        5.69320459e-05, 2.16341774e-04, 1.48023319e-04, 6.14866096e-04,\n",
       "        2.20327018e-02, 1.15002733e-03, 1.39938969e-02, 2.13267444e-02,\n",
       "        5.73875023e-03, 9.62572873e-01, 1.03616324e-02]])"
      ]
     },
     "execution_count": 9,
     "metadata": {},
     "output_type": "execute_result"
    }
   ],
   "source": [
    "kmeans = KMeans(n_clusters=3)\n",
    "y_pred = kmeans.fit_predict(df)\n",
    "kmeans.cluster_centers_"
   ]
  },
  {
   "cell_type": "code",
   "execution_count": 10,
   "metadata": {},
   "outputs": [
    {
     "data": {
      "text/plain": [
       "False    202206\n",
       "True      58395\n",
       "Name: damage_grade, dtype: int64"
      ]
     },
     "execution_count": 10,
     "metadata": {},
     "output_type": "execute_result"
    }
   ],
   "source": [
    "y_pred.shape\n",
    "df.shape\n",
    "df['y'] = y_pred\n",
    "(y_pred == labels).value_counts()"
   ]
  },
  {
   "cell_type": "code",
   "execution_count": 11,
   "metadata": {},
   "outputs": [
    {
     "data": {
      "text/plain": [
       "array([0, 1, 2])"
      ]
     },
     "execution_count": 11,
     "metadata": {},
     "output_type": "execute_result"
    }
   ],
   "source": [
    "np.unique(y_pred)"
   ]
  },
  {
   "cell_type": "code",
   "execution_count": 12,
   "metadata": {},
   "outputs": [
    {
     "data": {
      "text/plain": [
       "array([1, 2, 3], dtype=int64)"
      ]
     },
     "execution_count": 12,
     "metadata": {},
     "output_type": "execute_result"
    }
   ],
   "source": [
    "np.unique(labels)"
   ]
  },
  {
   "cell_type": "code",
   "execution_count": 15,
   "metadata": {},
   "outputs": [
    {
     "data": {
      "text/plain": [
       "array([1, 2, 3])"
      ]
     },
     "execution_count": 15,
     "metadata": {},
     "output_type": "execute_result"
    }
   ],
   "source": [
    "y_adjusted = [i + 1 for i in y_pred]\n",
    "np.unique(y_adjusted)"
   ]
  },
  {
   "cell_type": "code",
   "execution_count": 26,
   "metadata": {},
   "outputs": [
    {
     "data": {
      "text/plain": [
       "False    173664\n",
       "True      86937\n",
       "Name: damage_grade, dtype: int64"
      ]
     },
     "execution_count": 26,
     "metadata": {},
     "output_type": "execute_result"
    }
   ],
   "source": [
    "(y_adjusted == labels).value_counts()"
   ]
  },
  {
   "cell_type": "code",
   "execution_count": 42,
   "metadata": {},
   "outputs": [],
   "source": [
    "y_adjusted = [i + 1 if i!=3 else i**0 for i in y_adjusted]"
   ]
  },
  {
   "cell_type": "code",
   "execution_count": 47,
   "metadata": {},
   "outputs": [
    {
     "data": {
      "text/plain": [
       "pandas.core.series.Series"
      ]
     },
     "execution_count": 47,
     "metadata": {},
     "output_type": "execute_result"
    }
   ],
   "source": [
    "type(labels)"
   ]
  },
  {
   "cell_type": "code",
   "execution_count": 43,
   "metadata": {},
   "outputs": [
    {
     "data": {
      "text/plain": [
       "False    173393\n",
       "True      87208\n",
       "Name: damage_grade, dtype: int64"
      ]
     },
     "execution_count": 43,
     "metadata": {},
     "output_type": "execute_result"
    }
   ],
   "source": [
    "(y_adjusted == labels).value_counts()"
   ]
  },
  {
   "cell_type": "code",
   "execution_count": null,
   "metadata": {},
   "outputs": [],
   "source": []
  }
 ],
 "metadata": {
  "kernelspec": {
   "display_name": "Python 3",
   "language": "python",
   "name": "python3"
  },
  "language_info": {
   "codemirror_mode": {
    "name": "ipython",
    "version": 3
   },
   "file_extension": ".py",
   "mimetype": "text/x-python",
   "name": "python",
   "nbconvert_exporter": "python",
   "pygments_lexer": "ipython3",
   "version": "3.7.3"
  }
 },
 "nbformat": 4,
 "nbformat_minor": 4
}
